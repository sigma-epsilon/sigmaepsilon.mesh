{
 "cells": [
  {
   "cell_type": "code",
   "execution_count": 11,
   "metadata": {},
   "outputs": [
    {
     "data": {
      "text/plain": [
       "'custom_property'"
      ]
     },
     "execution_count": 11,
     "metadata": {},
     "output_type": "execute_result"
    }
   ],
   "source": [
    "from sigmaepsilon.mesh import PolyData\n",
    "\n",
    "\n",
    "class MyPolyData(PolyData):\n",
    "    \n",
    "    def __init__(self, *args, **kwargs):\n",
    "        super().__init__(*args, **kwargs)\n",
    "        self._custom_property = \"custom_property\"\n",
    "    \n",
    "    @property\n",
    "    def custom_property(self):\n",
    "        return self._custom_property\n",
    "    \n",
    "    \n",
    "pd = MyPolyData()\n",
    "pd.custom_property"
   ]
  },
  {
   "cell_type": "code",
   "execution_count": 12,
   "metadata": {},
   "outputs": [
    {
     "data": {
      "text/plain": [
       "'custom_property'"
      ]
     },
     "execution_count": 12,
     "metadata": {},
     "output_type": "execute_result"
    }
   ],
   "source": [
    "from sigmaepsilon.mesh.cells import T3 as CellData\n",
    "\n",
    "\n",
    "class MyCellData(CellData):\n",
    "\n",
    "    def __init__(self, *args, **kwargs):\n",
    "        super().__init__(*args, **kwargs)\n",
    "        self._custom_property = \"custom_property\"\n",
    "\n",
    "    @property\n",
    "    def custom_property(self):\n",
    "        return self._custom_property\n",
    "\n",
    "\n",
    "cd = MyCellData()\n",
    "cd.custom_property"
   ]
  },
  {
   "cell_type": "code",
   "execution_count": 13,
   "metadata": {},
   "outputs": [
    {
     "data": {
      "text/plain": [
       "'custom_property'"
      ]
     },
     "execution_count": 13,
     "metadata": {},
     "output_type": "execute_result"
    }
   ],
   "source": [
    "class MyCellData2(MyCellData):\n",
    "    ...\n",
    "    \n",
    "    \n",
    "cd = MyCellData2()\n",
    "cd.custom_property"
   ]
  }
 ],
 "metadata": {
  "kernelspec": {
   "display_name": "sigmaepsilon-mesh-hdQpGpP8-py3.10",
   "language": "python",
   "name": "python3"
  },
  "language_info": {
   "codemirror_mode": {
    "name": "ipython",
    "version": 3
   },
   "file_extension": ".py",
   "mimetype": "text/x-python",
   "name": "python",
   "nbconvert_exporter": "python",
   "pygments_lexer": "ipython3",
   "version": "3.10.11"
  }
 },
 "nbformat": 4,
 "nbformat_minor": 2
}
