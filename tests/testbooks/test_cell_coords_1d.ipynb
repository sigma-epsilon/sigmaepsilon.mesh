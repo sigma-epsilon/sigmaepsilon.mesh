{
 "cells": [
  {
   "cell_type": "code",
   "execution_count": 17,
   "metadata": {},
   "outputs": [],
   "source": [
    "L = 100.0  # length of the console\n",
    "number_of_elements = 2  # number of elements in the discretization"
   ]
  },
  {
   "cell_type": "code",
   "execution_count": 18,
   "metadata": {},
   "outputs": [],
   "source": [
    "from sigmaepsilon.mesh import PolyData1d as LineMesh, PointData\n",
    "from sigmaepsilon.math.linalg import linspace\n",
    "from sigmaepsilon.mesh.space import StandardFrame, PointCloud\n",
    "from sigmaepsilon.mesh.utils.space import frames_of_lines\n",
    "from sigmaepsilon.mesh.cells import L2 as CellData\n",
    "import numpy as np\n",
    "\n",
    "# space\n",
    "GlobalFrame = StandardFrame(dim=3)\n",
    "\n",
    "# mesh\n",
    "p0 = np.array([0.0, 0.0, 0.0])\n",
    "p1 = np.array([L, 0.0, 0.0])\n",
    "coords = linspace(p0, p1, number_of_elements + 1)\n",
    "coords = PointCloud(coords, frame=GlobalFrame).show()\n",
    "topo = np.zeros((number_of_elements, 2), dtype=int)\n",
    "topo[:, 0] = np.arange(number_of_elements)\n",
    "topo[:, 1] = np.arange(number_of_elements) + 1\n",
    "\n",
    "# pointdata\n",
    "pd = PointData(coords=coords, frame=GlobalFrame)\n",
    "\n",
    "# celldata\n",
    "frames = frames_of_lines(coords, topo)\n",
    "cd = CellData(topo=topo, frames=frames)\n",
    "\n",
    "# set up mesh and structure\n",
    "mesh = LineMesh(pd, cd, frame=GlobalFrame)"
   ]
  },
  {
   "cell_type": "code",
   "execution_count": 19,
   "metadata": {},
   "outputs": [],
   "source": [
    "rng = [0, 1]\n",
    "points = np.linspace(rng[0], rng[1], 3)\n",
    "#x_approx = mesh.cells_coords(points=points, rng=rng)\n",
    "x_approx = cd.coords(points=points, rng=rng)\n"
   ]
  },
  {
   "cell_type": "code",
   "execution_count": 20,
   "metadata": {},
   "outputs": [
    {
     "data": {
      "text/plain": [
       "array([0. , 0.5, 1. ])"
      ]
     },
     "execution_count": 20,
     "metadata": {},
     "output_type": "execute_result"
    }
   ],
   "source": [
    "points"
   ]
  },
  {
   "cell_type": "code",
   "execution_count": 21,
   "metadata": {},
   "outputs": [
    {
     "data": {
      "text/plain": [
       "array([  0.,  25.,  50.,  50.,  75., 100.])"
      ]
     },
     "execution_count": 21,
     "metadata": {},
     "output_type": "execute_result"
    }
   ],
   "source": [
    "x_approx[:, :, 0].flatten()"
   ]
  },
  {
   "cell_type": "code",
   "execution_count": 22,
   "metadata": {},
   "outputs": [
    {
     "data": {
      "text/plain": [
       "Array([  0.,  50., 100.])"
      ]
     },
     "execution_count": 22,
     "metadata": {},
     "output_type": "execute_result"
    }
   ],
   "source": [
    "coords[:, 0]"
   ]
  },
  {
   "cell_type": "code",
   "execution_count": 23,
   "metadata": {},
   "outputs": [],
   "source": [
    "assert np.allclose(points, np.array([0. , 0.5, 1. ]))\n",
    "assert np.allclose(x_approx[:, :, 0].flatten(), np.array([  0.,  25.,  50.,  50.,  75., 100.]))\n",
    "assert np.allclose(coords[:, 0], np.array([  0.,  50., 100.]))"
   ]
  }
 ],
 "metadata": {
  "kernelspec": {
   "display_name": "sigmaepsilon-mesh-hdQpGpP8-py3.10",
   "language": "python",
   "name": "python3"
  },
  "language_info": {
   "codemirror_mode": {
    "name": "ipython",
    "version": 3
   },
   "file_extension": ".py",
   "mimetype": "text/x-python",
   "name": "python",
   "nbconvert_exporter": "python",
   "pygments_lexer": "ipython3",
   "version": "3.10.11"
  }
 },
 "nbformat": 4,
 "nbformat_minor": 2
}
