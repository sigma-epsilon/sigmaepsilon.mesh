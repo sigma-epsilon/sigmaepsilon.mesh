{
 "cells": [
  {
   "cell_type": "markdown",
   "metadata": {},
   "source": [
    "# Interpolation and extrapolation"
   ]
  },
  {
   "cell_type": "markdown",
   "metadata": {},
   "source": [
    "Every Lagrangian cell comes with the necessary tools to interpolate or extrapolate multidimensional data. This can be done manually using the shape functions and shape function matrices of the cells, but there is an easier and quicker way that uses these in the background for us. Take the 8-noded hexahedron as an example."
   ]
  },
  {
   "cell_type": "code",
   "execution_count": 6,
   "metadata": {},
   "outputs": [],
   "source": [
    "from sigmaepsilon.mesh.cells import H8\n",
    "master_coordinates = H8.master_coordinates()"
   ]
  },
  {
   "cell_type": "markdown",
   "metadata": {},
   "source": [
    "Every cell is equipped with an interpolator."
   ]
  },
  {
   "cell_type": "code",
   "execution_count": 7,
   "metadata": {},
   "outputs": [
    {
     "name": "stdout",
     "output_type": "stream",
     "text": [
      "Help on method interpolator in module sigmaepsilon.mesh.cells.base.cell:\n",
      "\n",
      "interpolator(x: Iterable = None) -> Callable method of sigmaepsilon.mesh.abcdata.ABCMeta_MeshData instance\n",
      "    Returns a callable object that can be used to interpolate over\n",
      "    nodal values of one or more cells.\n",
      "    \n",
      "    Parameters\n",
      "    ----------\n",
      "    x: Iterable, Optional\n",
      "        The locations of known data. If provided here, some calculations\n",
      "        can be cached and reusing the interpolatior becomes cheaper.\n",
      "        \n",
      "    Returns\n",
      "    -------\n",
      "    Callable\n",
      "        A function that either takes 2 or 3 arguments. It the source coordinates\n",
      "        were provided when calling this function, the returned interpolator function\n",
      "        only takes 2 arguments.\n",
      "        \n",
      "    Examples\n",
      "    --------\n",
      "    Let assume that we know some data at some locations:\n",
      "    >>> source_data = [1, 2, 3, 4]\n",
      "    >>> source_location = [[-0.5, -0.5], [0.5, -0.5], [0.5, 0.5], [-0.5, 0.5]]\n",
      "    \n",
      "    We want to extrapolate from this information to the location\n",
      "    >>> target_location = [[-2, -2], [2, -2], [2, 2], [-2, 2]]\n",
      "    \n",
      "    We have provided four points and four data values. If we want an exact extrapolation,\n",
      "    we use 4-noded quadrilaterals:\n",
      "    \n",
      "    >>> from sigmaepsilon.mesh import Q4\n",
      "    >>> interpolator = Q4.interpolator()\n",
      "    >>> target_data = interpolator(source_location, source_data, target_location)\n",
      "    \n",
      "    Here we provided 3 inputs to the interpolator. If we want to reuse the interpolator\n",
      "    with the same source locations, it is best to provide them when creating the interpolator.\n",
      "    This saves some time for repeated evaluations.\n",
      "    \n",
      "    >>> from sigmaepsilon.mesh import Q4\n",
      "    >>> interpolator = Q4.interpolator(source_location)\n",
      "    >>> target_data = interpolator(source_data, target_location)\n",
      "\n"
     ]
    }
   ],
   "source": [
    "help(H8.interpolator)"
   ]
  },
  {
   "cell_type": "markdown",
   "metadata": {},
   "source": [
    "This is a factory function that returns another callable, that we use for interpolation or extrapolation of known data at known locations. Note that the mechanism uses only class level information, therefore there is no need to create an instance."
   ]
  },
  {
   "cell_type": "code",
   "execution_count": 8,
   "metadata": {},
   "outputs": [
    {
     "name": "stdout",
     "output_type": "stream",
     "text": [
      "Help on function interpolator in module sigmaepsilon.mesh.cells.base.cell:\n",
      "\n",
      "interpolator(x_source: Iterable, values_source: Iterable, x_target: Iterable) -> Union[float, numpy.ndarray]\n",
      "    Returns interpolated values from a set of known points and values.\n",
      "\n"
     ]
    }
   ],
   "source": [
    "interpolator = H8.interpolator()\n",
    "help(interpolator)"
   ]
  },
  {
   "cell_type": "markdown",
   "metadata": {},
   "source": [
    "We have to feed the interpolator with the locations of the known data, the knowd data itself and the locations where we want to know the data:"
   ]
  },
  {
   "cell_type": "code",
   "execution_count": 9,
   "metadata": {},
   "outputs": [
    {
     "data": {
      "text/plain": [
       "array([-3.5,  0.5,  0.5,  4.5,  4.5,  8.5,  8.5, 12.5])"
      ]
     },
     "execution_count": 9,
     "metadata": {},
     "output_type": "execute_result"
    }
   ],
   "source": [
    "source_coordinates = master_coordinates / 2\n",
    "source_values = [1, 2, 3, 4, 5, 6, 7, 8]\n",
    "target_coordinates = master_coordinates\n",
    "\n",
    "interpolator(source_coordinates, source_values, target_coordinates)"
   ]
  },
  {
   "cell_type": "markdown",
   "metadata": {},
   "source": [
    "It is possible to pass the source coordinates to the factory function. This is useful if we plan to reuse the interpolator with the same source points and can save a little time. In this case only the source values and the target points need to be provided."
   ]
  },
  {
   "cell_type": "code",
   "execution_count": 10,
   "metadata": {},
   "outputs": [
    {
     "data": {
      "text/plain": [
       "array([-3.5,  0.5,  0.5,  4.5,  4.5,  8.5,  8.5, 12.5])"
      ]
     },
     "execution_count": 10,
     "metadata": {},
     "output_type": "execute_result"
    }
   ],
   "source": [
    "source_coordinates = master_coordinates / 2\n",
    "source_values = [1, 2, 3, 4, 5, 6, 7, 8]\n",
    "target_coordinates = master_coordinates\n",
    "\n",
    "interpolator = H8.interpolator(source_coordinates)\n",
    "interpolator(source_values, target_coordinates)"
   ]
  },
  {
   "cell_type": "markdown",
   "metadata": {},
   "source": [
    "As noted in the documentation, if the number of source coorindates does not match the number of nodes (and hence the number of shape functions) of the master element of the class, the interpolation is gonna be under or overdetermined and the operation involves the calculation of a generalized inverse. This means, that for instance feeding a 4-noded quadrilateral with 9 source points and data values is more information than what the class is normally able to precisely handle and the resulting interpolator will represent a fitting function. In that case, if you want a precise interpolation, you would want to use a 9-node quadrilateral, or accept the loss of information."
   ]
  },
  {
   "cell_type": "code",
   "execution_count": 11,
   "metadata": {},
   "outputs": [
    {
     "data": {
      "text/plain": [
       "array([1.66666667, 4.33333333, 4.33333333, 9.66666667, 3.        ,\n",
       "       4.33333333, 7.        , 5.66666667, 5.        ])"
      ]
     },
     "execution_count": 11,
     "metadata": {},
     "output_type": "execute_result"
    }
   ],
   "source": [
    "from sigmaepsilon.mesh.cells import Q4, Q9\n",
    "\n",
    "master_coordinates = Q9.master_coordinates()\n",
    "source_coordinates = master_coordinates / 2\n",
    "source_values = [i+1 for i in range(9)]\n",
    "target_coordinates = master_coordinates\n",
    "\n",
    "interpolator = Q4.interpolator()\n",
    "interpolator(source_coordinates, source_values, target_coordinates)"
   ]
  },
  {
   "cell_type": "markdown",
   "metadata": {},
   "source": [
    "Usiing the 9-noded quadrilateral is a better choice here and you can have an exact interpolation or extrapolation."
   ]
  },
  {
   "cell_type": "code",
   "execution_count": 12,
   "metadata": {},
   "outputs": [
    {
     "data": {
      "text/plain": [
       "array([-45., -29., -29., -37.,  -5.,  -1.,  -1.,   3.,   9.])"
      ]
     },
     "execution_count": 12,
     "metadata": {},
     "output_type": "execute_result"
    }
   ],
   "source": [
    "interpolator = Q9.interpolator()\n",
    "interpolator(source_coordinates, source_values, target_coordinates)"
   ]
  },
  {
   "cell_type": "markdown",
   "metadata": {},
   "source": [
    "All is the same for one dimensional cells:"
   ]
  },
  {
   "cell_type": "code",
   "execution_count": 13,
   "metadata": {},
   "outputs": [
    {
     "data": {
      "text/plain": [
       "array([0., 2., 4.])"
      ]
     },
     "execution_count": 13,
     "metadata": {},
     "output_type": "execute_result"
    }
   ],
   "source": [
    "from sigmaepsilon.mesh.cells import L3\n",
    "\n",
    "master_coordinates = L3.master_coordinates()\n",
    "source_coordinates = master_coordinates / 2\n",
    "source_values = [i+1 for i in range(3)]\n",
    "target_coordinates = master_coordinates\n",
    "\n",
    "interpolator = L3.interpolator()\n",
    "interpolator(source_coordinates, source_values, target_coordinates)"
   ]
  }
 ],
 "metadata": {
  "kernelspec": {
   "display_name": ".mesh",
   "language": "python",
   "name": "python3"
  },
  "language_info": {
   "codemirror_mode": {
    "name": "ipython",
    "version": 3
   },
   "file_extension": ".py",
   "mimetype": "text/x-python",
   "name": "python",
   "nbconvert_exporter": "python",
   "pygments_lexer": "ipython3",
   "version": "3.8.10"
  },
  "orig_nbformat": 4
 },
 "nbformat": 4,
 "nbformat_minor": 2
}
