{
 "cells": [
  {
   "cell_type": "markdown",
   "metadata": {},
   "source": [
    "# Interpolation and extrapolation"
   ]
  },
  {
   "cell_type": "markdown",
   "metadata": {},
   "source": [
    "Every Lagrangian cell comes with the necessary tools to interpolate or extrapolate multidimensional data. This can be done manually using the shape functions and shape function matrices of the cells, but there is an easier and quicker way that uses these in the background for us. Take the 8-noded hexahedron as an example."
   ]
  },
  {
   "cell_type": "code",
   "execution_count": 1,
   "metadata": {},
   "outputs": [],
   "source": [
    "from sigmaepsilon.mesh.cells import H8\n",
    "\n",
    "master_coordinates = H8.Geometry.master_coordinates()"
   ]
  },
  {
   "cell_type": "markdown",
   "metadata": {},
   "source": [
    "Every cell is equipped an interpolator, which is a factory function that returns another callable, that we use for interpolation or extrapolation of known data at known locations. Note that the mechanism uses only class level information, therefore there is no need to create an instance."
   ]
  },
  {
   "cell_type": "code",
   "execution_count": 2,
   "metadata": {},
   "outputs": [
    {
     "data": {
      "text/plain": [
       "True"
      ]
     },
     "execution_count": 2,
     "metadata": {},
     "output_type": "execute_result"
    }
   ],
   "source": [
    "from sigmaepsilon.mesh import LagrangianCellApproximator\n",
    "\n",
    "approximator = H8.Geometry.approximator()\n",
    "isinstance(approximator, LagrangianCellApproximator)"
   ]
  },
  {
   "cell_type": "markdown",
   "metadata": {},
   "source": [
    "We have to feed the interpolator with the locations of the known data, the knowd data itself and the locations where we want to know the data:"
   ]
  },
  {
   "cell_type": "code",
   "execution_count": 3,
   "metadata": {},
   "outputs": [
    {
     "data": {
      "text/plain": [
       "array([-3.5,  0.5,  0.5,  4.5,  4.5,  8.5,  8.5, 12.5])"
      ]
     },
     "execution_count": 3,
     "metadata": {},
     "output_type": "execute_result"
    }
   ],
   "source": [
    "source_coordinates = master_coordinates / 2\n",
    "source_values = [1, 2, 3, 4, 5, 6, 7, 8]\n",
    "target_coordinates = master_coordinates\n",
    "\n",
    "approximator(source=source_coordinates, values=source_values, target=target_coordinates)"
   ]
  },
  {
   "cell_type": "markdown",
   "metadata": {},
   "source": [
    "It is possible to pass the source coordinates to the factory function. This is useful if we plan to reuse the approximator with the same source points and can save a little time. In this case only the source values and the target points need to be provided."
   ]
  },
  {
   "cell_type": "code",
   "execution_count": 4,
   "metadata": {},
   "outputs": [
    {
     "data": {
      "text/plain": [
       "array([-3.5,  0.5,  0.5,  4.5,  4.5,  8.5,  8.5, 12.5])"
      ]
     },
     "execution_count": 4,
     "metadata": {},
     "output_type": "execute_result"
    }
   ],
   "source": [
    "source_coordinates = master_coordinates / 2\n",
    "source_values = [1, 2, 3, 4, 5, 6, 7, 8]\n",
    "target_coordinates = master_coordinates\n",
    "\n",
    "approximator = H8.Geometry.approximator(source_coordinates)\n",
    "approximator(values=source_values, target=target_coordinates)"
   ]
  },
  {
   "cell_type": "markdown",
   "metadata": {},
   "source": [
    "As noted in the documentation, if the number of source coorindates does not match the number of nodes (and hence the number of shape functions) of the master element of the class, the approximation is gonna be under or overdetermined and the operation involves the calculation of a generalized inverse. This means, that for instance feeding a 4-noded quadrilateral with 9 source points and data values is more information than what the class is normally able to precisely handle and the resulting approximator will represent a fitting function. In that case, if you want a precise approximation, you would want to use a 9-node quadrilateral, or accept the loss of information."
   ]
  },
  {
   "cell_type": "code",
   "execution_count": 5,
   "metadata": {},
   "outputs": [
    {
     "data": {
      "text/plain": [
       "array([1.66666667, 4.33333333, 4.33333333, 9.66666667, 3.        ,\n",
       "       4.33333333, 7.        , 5.66666667, 5.        ])"
      ]
     },
     "execution_count": 5,
     "metadata": {},
     "output_type": "execute_result"
    }
   ],
   "source": [
    "from sigmaepsilon.mesh.cells import Q4, Q9\n",
    "\n",
    "master_coordinates = Q9.Geometry.master_coordinates()\n",
    "source_coordinates = master_coordinates / 2\n",
    "source_values = [i + 1 for i in range(9)]\n",
    "target_coordinates = master_coordinates\n",
    "\n",
    "approximator = Q4.Geometry.approximator()\n",
    "approximator(source=source_coordinates, values=source_values, target=target_coordinates)"
   ]
  },
  {
   "cell_type": "markdown",
   "metadata": {},
   "source": [
    "Usiing the 9-noded quadrilateral is a better choice here and you can have an exact interpolation or extrapolation."
   ]
  },
  {
   "cell_type": "code",
   "execution_count": 6,
   "metadata": {},
   "outputs": [
    {
     "data": {
      "text/plain": [
       "array([-45., -29., -29., -37.,  -5.,  -1.,  -1.,   3.,   9.])"
      ]
     },
     "execution_count": 6,
     "metadata": {},
     "output_type": "execute_result"
    }
   ],
   "source": [
    "approximator = Q9.Geometry.approximator()\n",
    "approximator(source=source_coordinates, values=source_values, target=target_coordinates)"
   ]
  },
  {
   "cell_type": "markdown",
   "metadata": {},
   "source": [
    "All is the same for one dimensional cells:"
   ]
  },
  {
   "cell_type": "code",
   "execution_count": 7,
   "metadata": {},
   "outputs": [
    {
     "data": {
      "text/plain": [
       "array([0., 2., 4.])"
      ]
     },
     "execution_count": 7,
     "metadata": {},
     "output_type": "execute_result"
    }
   ],
   "source": [
    "from sigmaepsilon.mesh.cells import L3\n",
    "\n",
    "master_coordinates = L3.Geometry.master_coordinates()\n",
    "source_coordinates = master_coordinates / 2\n",
    "source_values = [i + 1 for i in range(3)]\n",
    "target_coordinates = master_coordinates\n",
    "\n",
    "approximator = L3.Geometry.approximator()\n",
    "approximator(source=source_coordinates, values=source_values, target=target_coordinates)"
   ]
  },
  {
   "cell_type": "markdown",
   "metadata": {},
   "source": [
    "## Multidimensional data"
   ]
  },
  {
   "cell_type": "markdown",
   "metadata": {},
   "source": [
    "Set up an approximator:"
   ]
  },
  {
   "cell_type": "code",
   "execution_count": 8,
   "metadata": {},
   "outputs": [],
   "source": [
    "import numpy as np\n",
    "\n",
    "approximator = H8.Geometry.approximator()\n",
    "master_coordinates = H8.Geometry.master_coordinates()\n",
    "\n",
    "source_coordinates = master_coordinates / 2\n",
    "target_coordinates = master_coordinates * 2\n"
   ]
  },
  {
   "cell_type": "markdown",
   "metadata": {},
   "source": [
    "By default, multidimensional data is expected such that the last axis goes along source points (it must have the same length than the number of source points), and this layout lieds to the best performance."
   ]
  },
  {
   "cell_type": "code",
   "execution_count": 9,
   "metadata": {},
   "outputs": [
    {
     "data": {
      "text/plain": [
       "(10, 2, 3)"
      ]
     },
     "execution_count": 9,
     "metadata": {},
     "output_type": "execute_result"
    }
   ],
   "source": [
    "source_values = np.random.rand(10, 2, 8)\n",
    "approximator(\n",
    "    source=source_coordinates, \n",
    "    values=source_values, \n",
    "    target=target_coordinates[:3]\n",
    ").shape"
   ]
  },
  {
   "cell_type": "markdown",
   "metadata": {},
   "source": [
    "You can use the 'axis' parameter to indicate that this axis is not the last, but you would probably have to accept a loss in performance (probably alongside a warning), since the memory layout of your array is not optimal."
   ]
  },
  {
   "cell_type": "code",
   "execution_count": 10,
   "metadata": {},
   "outputs": [
    {
     "data": {
      "text/plain": [
       "(3, 2, 10)"
      ]
     },
     "execution_count": 10,
     "metadata": {},
     "output_type": "execute_result"
    }
   ],
   "source": [
    "source_values = np.random.rand(8, 2, 10)\n",
    "approximator(\n",
    "    source=source_coordinates, \n",
    "    values=source_values, \n",
    "    target=target_coordinates[:3],\n",
    "    axis=0\n",
    ").shape"
   ]
  },
  {
   "cell_type": "markdown",
   "metadata": {},
   "source": [
    "The workaround here is to use `numpy.ascontiguousarray` and reordering the input data."
   ]
  },
  {
   "cell_type": "markdown",
   "metadata": {},
   "source": [
    "## Custom cells"
   ]
  },
  {
   "cell_type": "markdown",
   "metadata": {},
   "source": [
    "Getting an approximator for a custom cell goes the same way, after the cell have been properly set up."
   ]
  },
  {
   "cell_type": "code",
   "execution_count": 11,
   "metadata": {},
   "outputs": [
    {
     "data": {
      "text/plain": [
       "array([-0.5,  1.5,  3.5,  5.5])"
      ]
     },
     "execution_count": 11,
     "metadata": {},
     "output_type": "execute_result"
    }
   ],
   "source": [
    "from sigmaepsilon.mesh.geometry import PolyCellGeometry1d\n",
    "\n",
    "Custom1dCell: PolyCellGeometry1d = PolyCellGeometry1d.generate_class(number_of_nodes=4)\n",
    "\n",
    "master_coordinates = Custom1dCell.master_coordinates()\n",
    "source_coordinates = master_coordinates / 2\n",
    "source_values = [i + 1 for i in range(Custom1dCell.number_of_nodes)]\n",
    "target_coordinates = master_coordinates\n",
    "\n",
    "approximator = Custom1dCell.approximator()\n",
    "approximator(source=source_coordinates, values=source_values, target=target_coordinates)"
   ]
  }
 ],
 "metadata": {
  "kernelspec": {
   "display_name": ".mesh",
   "language": "python",
   "name": "python3"
  },
  "language_info": {
   "codemirror_mode": {
    "name": "ipython",
    "version": 3
   },
   "file_extension": ".py",
   "mimetype": "text/x-python",
   "name": "python",
   "nbconvert_exporter": "python",
   "pygments_lexer": "ipython3",
   "version": "3.8.10"
  },
  "orig_nbformat": 4
 },
 "nbformat": 4,
 "nbformat_minor": 2
}
