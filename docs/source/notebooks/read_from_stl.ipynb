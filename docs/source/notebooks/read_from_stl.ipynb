{
 "cells": [
  {
   "cell_type": "code",
   "execution_count": 11,
   "metadata": {},
   "outputs": [
    {
     "name": "stdout",
     "output_type": "stream",
     "text": [
      "Fixing degeneracies and intersections\n",
      "Tetrahedralization successful.\n"
     ]
    }
   ],
   "source": [
    "import pyvista as pv\n",
    "import tetgen\n",
    "from pymeshfix import MeshFix\n",
    "\n",
    "# Define the path to the STL file\n",
    "stl_file_path = r'C:\\Users\\Bence\\Documents\\Bike Stem S1 Copy.stl'\n",
    "\n",
    "# Read the STL file using PyVista\n",
    "mesh = pv.read(stl_file_path)\n",
    "\n",
    "# Ensure the mesh is manifold by using PyVista's cleaning functions\n",
    "clean_mesh = mesh.clean()\n",
    "\n",
    "# Further repair the mesh using PyMeshFix\n",
    "# Convert to a format suitable for PyMeshFix (vertices and faces)\n",
    "points = clean_mesh.points\n",
    "faces = clean_mesh.faces.reshape(-1, 4)[:, 1:4]  # remove the first element of each face which is the number of points in the face\n",
    "\n",
    "# Initialize MeshFix\n",
    "meshfix = MeshFix(points, faces)\n",
    "\n",
    "# Perform the repair\n",
    "meshfix.repair(verbose=True)\n",
    "\n",
    "# Extract the repaired mesh\n",
    "fixed_mesh = meshfix.mesh\n",
    "\n",
    "# Convert the repaired mesh back to a PyVista PolyData object\n",
    "repaired_mesh = pv.PolyData(fixed_mesh.points, fixed_mesh.faces)\n",
    "\n",
    "# Ensure the repaired mesh is cleaned and triangulated\n",
    "repaired_mesh = repaired_mesh.clean().triangulate()\n",
    "\n",
    "# Convert the cleaned and repaired mesh to a format suitable for TetGen\n",
    "tet = tetgen.TetGen(repaired_mesh)\n",
    "\n",
    "try:\n",
    "    # Attempt to tetrahedralize the repaired mesh\n",
    "    tetra_mesh = tet.tetrahedralize(\n",
    "        order = 1,\n",
    "        mindihedral = 10,\n",
    "        minratio = 1.5,\n",
    "        quality = True,\n",
    "        steinerleft = -1,\n",
    "    )\n",
    "    print(\"Tetrahedralization successful.\")\n",
    "    \n",
    "except RuntimeError as e:\n",
    "    print(f\"Failed to tetrahedralize: {e}\")\n",
    "    print(\"May need to further repair surface by making it manifold.\")\n"
   ]
  },
  {
   "cell_type": "code",
   "execution_count": 12,
   "metadata": {},
   "outputs": [],
   "source": [
    "from sigmaepsilon.mesh import PolyData, PointData\n",
    "from sigmaepsilon.mesh.space import StandardFrame\n",
    "from sigmaepsilon.mesh.cells import TET4\n",
    "\n",
    "coords, topo = tetra_mesh\n",
    "frame = StandardFrame(dim=3)\n",
    "mesh = PolyData(pd=PointData(coords=coords, frame=frame), cd=TET4(topo=topo, frames=frame))\n",
    "mesh.plot(notebook=False)"
   ]
  }
 ],
 "metadata": {
  "kernelspec": {
   "display_name": "sigmaepsilon-mesh-HBhBZswl-py3.10",
   "language": "python",
   "name": "python3"
  },
  "language_info": {
   "codemirror_mode": {
    "name": "ipython",
    "version": 3
   },
   "file_extension": ".py",
   "mimetype": "text/x-python",
   "name": "python",
   "nbconvert_exporter": "python",
   "pygments_lexer": "ipython3",
   "version": "3.10.11"
  }
 },
 "nbformat": 4,
 "nbformat_minor": 2
}
