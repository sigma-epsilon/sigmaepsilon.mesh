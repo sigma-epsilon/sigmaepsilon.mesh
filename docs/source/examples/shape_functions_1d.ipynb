{
 "cells": [
  {
   "cell_type": "markdown",
   "metadata": {},
   "source": [
    "# Plotting Lagrangian shape functions in 1d"
   ]
  },
  {
   "cell_type": "code",
   "execution_count": 1,
   "metadata": {},
   "outputs": [
    {
     "ename": "TypeError",
     "evalue": "'NoneType' object is not callable",
     "output_type": "error",
     "traceback": [
      "\u001b[1;31m---------------------------------------------------------------------------\u001b[0m",
      "\u001b[1;31mTypeError\u001b[0m                                 Traceback (most recent call last)",
      "Cell \u001b[1;32mIn[1], line 9\u001b[0m\n\u001b[0;32m      7\u001b[0m points \u001b[39m=\u001b[39m np\u001b[39m.\u001b[39mlinspace(\u001b[39m*\u001b[39mrng, \u001b[39m30\u001b[39m)\n\u001b[0;32m      8\u001b[0m nodes \u001b[39m=\u001b[39m np\u001b[39m.\u001b[39mlinspace(\u001b[39m*\u001b[39mrng, Cell\u001b[39m.\u001b[39mGeometry\u001b[39m.\u001b[39mnumber_of_nodes)\n\u001b[1;32m----> 9\u001b[0m shp \u001b[39m=\u001b[39m Cell\u001b[39m.\u001b[39;49mGeometry\u001b[39m.\u001b[39;49mshape_function_values(points, rng\u001b[39m=\u001b[39;49mrng)\n\u001b[0;32m     10\u001b[0m dshp \u001b[39m=\u001b[39m Cell\u001b[39m.\u001b[39mGeometry\u001b[39m.\u001b[39mshape_function_derivatives(points, rng\u001b[39m=\u001b[39mrng)\n\u001b[0;32m     12\u001b[0m fig, axs \u001b[39m=\u001b[39m plt\u001b[39m.\u001b[39msubplots(Cell\u001b[39m.\u001b[39mNNODE, \u001b[39m1\u001b[39m, figsize\u001b[39m=\u001b[39m(\u001b[39m6\u001b[39m, \u001b[39m6\u001b[39m), dpi\u001b[39m=\u001b[39m\u001b[39m400\u001b[39m, sharex\u001b[39m=\u001b[39m\u001b[39mTrue\u001b[39;00m)\n",
      "File \u001b[1;32mF:\\GitHub\\SigmaEpsilon\\sigmaepsilon.mesh\\src\\sigmaepsilon\\mesh\\core\\geometry.py:134\u001b[0m, in \u001b[0;36mPolyCellGeometry.shape_function_values\u001b[1;34m(cls, pcoords, rng)\u001b[0m\n\u001b[0;32m    131\u001b[0m         pcoords \u001b[39m=\u001b[39m atleast2d(pcoords, front\u001b[39m=\u001b[39m\u001b[39mTrue\u001b[39;00m)\n\u001b[0;32m    132\u001b[0m         \u001b[39mreturn\u001b[39;00m \u001b[39mcls\u001b[39m\u001b[39m.\u001b[39mshape_function_evaluator(pcoords)\u001b[39m.\u001b[39mastype(\u001b[39mfloat\u001b[39m)\n\u001b[1;32m--> 134\u001b[0m \u001b[39mreturn\u001b[39;00m \u001b[39mcls\u001b[39;49m\u001b[39m.\u001b[39;49mshape_function_evaluator(pcoords)\u001b[39m.\u001b[39mastype(\u001b[39mfloat\u001b[39m)\n",
      "\u001b[1;31mTypeError\u001b[0m: 'NoneType' object is not callable"
     ]
    }
   ],
   "source": [
    "import matplotlib.pyplot as plt\n",
    "import numpy as np\n",
    "from sigmaepsilon.mesh.cells import L3 as Cell\n",
    "#from sigmaepsilon.mesh.cells import L2 as Cell\n",
    "\n",
    "rng = [-1, 1]\n",
    "points = np.linspace(*rng, 30)\n",
    "nodes = np.linspace(*rng, Cell.Geometry.number_of_nodes)\n",
    "shp = Cell.Geometry.shape_function_values(points, rng=rng)\n",
    "dshp = Cell.Geometry.shape_function_derivatives(points, rng=rng)\n",
    "\n",
    "fig, axs = plt.subplots(Cell.NNODE, 1, figsize=(6, 6), dpi=400, sharex=True)\n",
    "\n",
    "for i in range(Cell.NNODE):\n",
    "    axs[i].axhline(y=0, color=\"black\", linewidth=0.5)\n",
    "    axs[i].plot(\n",
    "        points,\n",
    "        shp[:, i],\n",
    "        \"b-\",\n",
    "        markersize=4,\n",
    "        linewidth=1,\n",
    "        label=r\"$N_{}$\".format(i + 1),\n",
    "    )\n",
    "    axs[i].plot(\n",
    "        points,\n",
    "        dshp[:, i, 0],\n",
    "        \"g--\",\n",
    "        markersize=4,\n",
    "        linewidth=1,\n",
    "        label=r\"$N_{}$\".format(\"{\" + str(i + 1) + \",\" + r\"\\xi\" \"}\"),\n",
    "    )\n",
    "    axs[i].plot(\n",
    "        nodes,\n",
    "        [\n",
    "            0,\n",
    "        ]\n",
    "        * Cell.NNODE,\n",
    "        \"ro\",\n",
    "        markersize=4,\n",
    "    )\n",
    "    axs[i].set_xlabel(r\"$\\xi$\")\n",
    "    axs[i].set_ylabel(r\"$N_{}$\".format(i + 1))\n",
    "\n",
    "for ax in axs:\n",
    "    ax.legend()\n",
    "\n",
    "plt.subplots_adjust(hspace=0.5)\n",
    "plt.tight_layout()\n",
    "\n",
    "plt.rcParams.update(\n",
    "    {\n",
    "        \"text.usetex\": True,\n",
    "        \"font.family\": \"sans-serif\",\n",
    "    }\n",
    ")"
   ]
  }
 ],
 "metadata": {
  "kernelspec": {
   "display_name": ".mesh",
   "language": "python",
   "name": "python3"
  },
  "language_info": {
   "codemirror_mode": {
    "name": "ipython",
    "version": 3
   },
   "file_extension": ".py",
   "mimetype": "text/x-python",
   "name": "python",
   "nbconvert_exporter": "python",
   "pygments_lexer": "ipython3",
   "version": "3.8.10"
  },
  "orig_nbformat": 4
 },
 "nbformat": 4,
 "nbformat_minor": 2
}
